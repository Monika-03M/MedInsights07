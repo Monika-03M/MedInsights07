{
  "cells": [
    {
      "cell_type": "code",
      "execution_count": 1,
      "metadata": {
        "id": "ALnFK-oVYLN6"
      },
      "outputs": [],
      "source": [
        "import pandas as pd"
      ]
    },
    {
      "cell_type": "code",
      "execution_count": 3,
      "metadata": {
        "id": "nfI4x39XYWnA"
      },
      "outputs": [],
      "source": [
        "df=pd.read_csv('datasets/drug_data.csv')"
      ]
    },
    {
      "cell_type": "code",
      "execution_count": 4,
      "metadata": {
        "id": "_GRsFr9WYtJi"
      },
      "outputs": [],
      "source": [
        "from sklearn.preprocessing import RobustScaler\n",
        "from sklearn.feature_extraction.text import TfidfVectorizer\n",
        "from scipy.sparse import hstack\n",
        "from imblearn.over_sampling import SMOTE\n",
        "from sklearn.model_selection import train_test_split\n",
        "from sklearn.ensemble import RandomForestClassifier\n",
        "from sklearn.metrics import classification_report\n",
        "\n",
        "# Assuming df is your original DataFrame\n",
        "text_feature = 'review'\n",
        "numerical_features = ['sentiment_rate', 'prescription_count', 'acceptance_rate','usefulcount', 'positive_count','avg_rating','avg_sentiment','final_rate','scaled_sentiment','scaled_rating']\n",
        "target = 'rating'\n",
        "\n",
        "X_text = df[text_feature]\n",
        "X_numerical = df[numerical_features]\n",
        "y = df[target]"
      ]
    },
    {
      "cell_type": "code",
      "execution_count": 5,
      "metadata": {
        "id": "Hr1WYFIOYznr"
      },
      "outputs": [],
      "source": [
        "import numpy as np\n",
        "X_numerical = X_numerical.replace([np.inf, -np.inf], np.nan)\n",
        "mask = X_numerical.notna().all(axis=1)\n",
        "X_numerical = X_numerical[mask]\n",
        "X_text = X_text[mask]\n",
        "y = y[mask]\n",
        "for feature in numerical_features:\n",
        "    lower_bound = X_numerical[feature].quantile(0.001)\n",
        "    upper_bound = X_numerical[feature].quantile(0.999)\n",
        "    X_numerical[feature] = X_numerical[feature].clip(lower_bound, upper_bound)"
      ]
    },
    {
      "cell_type": "code",
      "execution_count": 6,
      "metadata": {
        "id": "LT5p10cbY2Np"
      },
      "outputs": [],
      "source": [
        "scaler = RobustScaler()\n",
        "X_numerical_scaled = scaler.fit_transform(X_numerical)\n",
        "tfidf = TfidfVectorizer(max_features=5000)\n",
        "X_text_tfidf = tfidf.fit_transform(X_text)"
      ]
    },
    {
      "cell_type": "code",
      "execution_count": 7,
      "metadata": {
        "id": "a6OkIHZCY4G3"
      },
      "outputs": [],
      "source": [
        "X_combined = hstack([X_text_tfidf, X_numerical_scaled])\n",
        "X_train, X_test, y_train, y_test = train_test_split(X_combined, y, test_size=0.2, random_state=42)"
      ]
    },
    {
      "cell_type": "code",
      "execution_count": 8,
      "metadata": {
        "colab": {
          "base_uri": "https://localhost:8080/"
        },
        "id": "AKKalz4eY73z",
        "outputId": "abc2d549-a3f6-4bc5-d2cf-834f09e56262"
      },
      "outputs": [
        {
          "name": "stdout",
          "output_type": "stream",
          "text": [
            "[LightGBM] [Info] Auto-choosing col-wise multi-threading, the overhead of testing was 0.140981 seconds.\n",
            "You can set `force_col_wise=true` to remove the overhead.\n",
            "[LightGBM] [Info] Total Bins 156976\n",
            "[LightGBM] [Info] Number of data points in the train set: 18638, number of used features: 3469\n",
            "[LightGBM] [Info] Start training from score -2.012920\n",
            "[LightGBM] [Info] Start training from score -3.408089\n",
            "[LightGBM] [Info] Start training from score -3.380909\n",
            "[LightGBM] [Info] Start training from score -3.604447\n",
            "[LightGBM] [Info] Start training from score -3.164730\n",
            "[LightGBM] [Info] Start training from score -3.281877\n",
            "[LightGBM] [Info] Start training from score -2.868822\n",
            "[LightGBM] [Info] Start training from score -2.132210\n",
            "[LightGBM] [Info] Start training from score -1.781936\n",
            "[LightGBM] [Info] Start training from score -1.053708\n",
            "              precision    recall  f1-score   support\n",
            "\n",
            "           1       0.87      0.98      0.92       635\n",
            "           2       0.87      0.49      0.62       185\n",
            "           3       0.75      0.79      0.77       155\n",
            "           4       0.69      0.64      0.67       115\n",
            "           5       0.80      0.79      0.79       206\n",
            "           6       0.76      0.77      0.76       179\n",
            "           7       0.83      0.59      0.69       284\n",
            "           8       0.81      0.94      0.87       536\n",
            "           9       0.80      0.66      0.72       774\n",
            "          10       0.85      0.92      0.88      1591\n",
            "\n",
            "    accuracy                           0.83      4660\n",
            "   macro avg       0.80      0.76      0.77      4660\n",
            "weighted avg       0.82      0.83      0.82      4660\n",
            "\n"
          ]
        }
      ],
      "source": [
        "from lightgbm import LGBMClassifier\n",
        "from sklearn.metrics import classification_report\n",
        "lgb = LGBMClassifier(objective='multiclass', num_class=10, random_state=42)\n",
        "lgb.fit(X_train, y_train)\n",
        "y_pred = lgb.predict(X_test)\n",
        "print(classification_report(y_test, y_pred))"
      ]
    },
    {
      "cell_type": "code",
      "execution_count": 9,
      "metadata": {
        "colab": {
          "base_uri": "https://localhost:8080/"
        },
        "id": "zLQYpfhpY-8s",
        "outputId": "a67e8ab2-0676-462c-8986-516ff6ed17bc"
      },
      "outputs": [
        {
          "data": {
            "text/plain": [
              "['numerical_features.pkl']"
            ]
          },
          "execution_count": 9,
          "metadata": {},
          "output_type": "execute_result"
        }
      ],
      "source": [
        "import joblib\n",
        "\n",
        "# Save the trained model\n",
        "joblib.dump(lgb, 'lgb_model.pkl')\n",
        "\n",
        "# Save the TF-IDF vectorizer, scaler, and numerical feature names\n",
        "joblib.dump(tfidf, 'tfidf_vectorizer.pkl')\n",
        "joblib.dump(scaler, 'scaler.pkl')\n",
        "joblib.dump(numerical_features, 'numerical_features.pkl')"
      ]
    },
    {
      "cell_type": "code",
      "execution_count": 10,
      "metadata": {},
      "outputs": [
        {
          "data": {
            "text/plain": [
              "'c:\\\\Users\\\\HP\\\\Desktop\\\\my_project'"
            ]
          },
          "execution_count": 10,
          "metadata": {},
          "output_type": "execute_result"
        }
      ],
      "source": [
        "import os\n",
        "os.getcwd()"
      ]
    },
    {
      "cell_type": "code",
      "execution_count": 12,
      "metadata": {},
      "outputs": [
        {
          "name": "stdout",
          "output_type": "stream",
          "text": [
            "Predicted ratings for Nitrofurantoin: 1\n"
          ]
        },
        {
          "name": "stderr",
          "output_type": "stream",
          "text": [
            "c:\\Python312\\Lib\\site-packages\\sklearn\\base.py:376: InconsistentVersionWarning: Trying to unpickle estimator RobustScaler from version 1.3.2 when using version 1.5.1. This might lead to breaking code or invalid results. Use at your own risk. For more info please refer to:\n",
            "https://scikit-learn.org/stable/model_persistence.html#security-maintainability-limitations\n",
            "  warnings.warn(\n",
            "C:\\Users\\HP\\AppData\\Local\\Temp\\ipykernel_20744\\2633559193.py:9: SettingWithCopyWarning: \n",
            "A value is trying to be set on a copy of a slice from a DataFrame.\n",
            "Try using .loc[row_indexer,col_indexer] = value instead\n",
            "\n",
            "See the caveats in the documentation: https://pandas.pydata.org/pandas-docs/stable/user_guide/indexing.html#returning-a-view-versus-a-copy\n",
            "  reviews['review'] = reviews['review'].fillna('')  # Fill NaN with empty string\n",
            "C:\\Users\\HP\\AppData\\Local\\Temp\\ipykernel_20744\\2633559193.py:10: SettingWithCopyWarning: \n",
            "A value is trying to be set on a copy of a slice from a DataFrame.\n",
            "Try using .loc[row_indexer,col_indexer] = value instead\n",
            "\n",
            "See the caveats in the documentation: https://pandas.pydata.org/pandas-docs/stable/user_guide/indexing.html#returning-a-view-versus-a-copy\n",
            "  reviews['review'] = reviews['review'].str.lower()  # Convert to lowercase\n",
            "c:\\Python312\\Lib\\site-packages\\lightgbm\\basic.py:1218: UserWarning: Converting data to scipy sparse matrix.\n",
            "  _log_warning(\"Converting data to scipy sparse matrix.\")\n"
          ]
        }
      ],
      "source": [
        "import joblib\n",
        "import pandas as pd\n",
        "from scipy.sparse import hstack\n",
        "\n",
        "def get_reviews_for_drug(df, drug_name):\n",
        "    return df[df['drugname'] == drug_name]\n",
        "\n",
        "def preprocess_reviews(reviews):\n",
        "    reviews['review'] = reviews['review'].fillna('')  # Fill NaN with empty string\n",
        "    reviews['review'] = reviews['review'].str.lower()  # Convert to lowercase\n",
        "    return reviews\n",
        "\n",
        "def transform_text_data(reviews, tfidf):\n",
        "    return tfidf.transform(reviews['review'])\n",
        "\n",
        "def combine_features(reviews, scaler, tfidf, numerical_features):\n",
        "    X_numerical = reviews[numerical_features]  # Ensure the order matches\n",
        "    X_numerical = X_numerical.replace([np.inf, -np.inf], np.nan).fillna(0)\n",
        "    X_numerical_scaled = scaler.transform(X_numerical)\n",
        "    X_text_tfidf = transform_text_data(reviews, tfidf)\n",
        "    return hstack([X_text_tfidf, X_numerical_scaled])\n",
        "\n",
        "def predict_drug_rating(drug_name):\n",
        "    df = pd.read_csv('datasets/drug_data.csv')  # Replace with your dataset path\n",
        "\n",
        "    # Load the saved model and preprocessing components\n",
        "    lgb_model = joblib.load('models/lgb_model.pkl')\n",
        "    tfidf_vectorizer = joblib.load('models/tfidf_vectorizer.pkl')\n",
        "    scaler = joblib.load('models/scaler.pkl')\n",
        "    numerical_features = joblib.load('models/numerical_features.pkl')\n",
        "\n",
        "    # Get reviews for the specified drug\n",
        "    reviews = get_reviews_for_drug(df, drug_name)\n",
        "\n",
        "    # Preprocess the reviews\n",
        "    reviews = preprocess_reviews(reviews)\n",
        "\n",
        "    # Combine features\n",
        "    X_combined = combine_features(reviews, scaler, tfidf_vectorizer, numerical_features)\n",
        "\n",
        "    # Predict ratings\n",
        "    predictions = lgb_model.predict(X_combined)\n",
        "\n",
        "    # Return or print the predicted ratings\n",
        "    return predictions\n",
        "\n",
        "# Example usage:\n",
        "drug_name = input('Enter the drug name: ')\n",
        "predicted_ratings = predict_drug_rating(drug_name)\n",
        "print(f'Predicted ratings for {drug_name}: {predicted_ratings[0]}')\n"
      ]
    },
    {
      "cell_type": "code",
      "execution_count": null,
      "metadata": {},
      "outputs": [],
      "source": []
    }
  ],
  "metadata": {
    "colab": {
      "provenance": []
    },
    "kernelspec": {
      "display_name": "Python 3",
      "name": "python3"
    },
    "language_info": {
      "codemirror_mode": {
        "name": "ipython",
        "version": 3
      },
      "file_extension": ".py",
      "mimetype": "text/x-python",
      "name": "python",
      "nbconvert_exporter": "python",
      "pygments_lexer": "ipython3",
      "version": "3.12.1"
    }
  },
  "nbformat": 4,
  "nbformat_minor": 0
}
